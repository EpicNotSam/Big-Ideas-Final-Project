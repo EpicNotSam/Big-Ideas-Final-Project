{
 "cells": [
  {
   "cell_type": "code",
   "execution_count": 8,
   "metadata": {},
   "outputs": [
    {
     "data": {
      "text/html": [
       "<div>\n",
       "<style scoped>\n",
       "    .dataframe tbody tr th:only-of-type {\n",
       "        vertical-align: middle;\n",
       "    }\n",
       "\n",
       "    .dataframe tbody tr th {\n",
       "        vertical-align: top;\n",
       "    }\n",
       "\n",
       "    .dataframe thead th {\n",
       "        text-align: right;\n",
       "    }\n",
       "</style>\n",
       "<table border=\"1\" class=\"dataframe\">\n",
       "  <thead>\n",
       "    <tr style=\"text-align: right;\">\n",
       "      <th></th>\n",
       "      <th>Id</th>\n",
       "      <th>Name</th>\n",
       "      <th>BL_Dist</th>\n",
       "      <th>Note</th>\n",
       "      <th>CrossSt</th>\n",
       "      <th>BLDis</th>\n",
       "      <th>BL_SYearTo</th>\n",
       "      <th>Year_Added</th>\n",
       "      <th>geometry</th>\n",
       "    </tr>\n",
       "  </thead>\n",
       "  <tbody>\n",
       "    <tr>\n",
       "      <th>0</th>\n",
       "      <td>0</td>\n",
       "      <td>Saline St</td>\n",
       "      <td>0.272043</td>\n",
       "      <td>Protected Bike Lane</td>\n",
       "      <td>Greenfield Ave to Trail</td>\n",
       "      <td>0.26</td>\n",
       "      <td>None</td>\n",
       "      <td>2014</td>\n",
       "      <td>LINESTRING (1355500.250 405292.750, 1355495.50...</td>\n",
       "    </tr>\n",
       "    <tr>\n",
       "      <th>1</th>\n",
       "      <td>0</td>\n",
       "      <td>Schenley Dr</td>\n",
       "      <td>1.488216</td>\n",
       "      <td>Protected Bike Lane</td>\n",
       "      <td>Schenley Plaza to Anderson Playground</td>\n",
       "      <td>1.40</td>\n",
       "      <td>None</td>\n",
       "      <td>2014</td>\n",
       "      <td>LINESTRING (1356920.750 408969.750, 1356981.75...</td>\n",
       "    </tr>\n",
       "    <tr>\n",
       "      <th>2</th>\n",
       "      <td>0</td>\n",
       "      <td>Penn Ave</td>\n",
       "      <td>2.003265</td>\n",
       "      <td>Protected Bike Lane</td>\n",
       "      <td>6th St to 16th St</td>\n",
       "      <td>1.80</td>\n",
       "      <td>1.6</td>\n",
       "      <td>2014</td>\n",
       "      <td>LINESTRING (1345849.500 414244.750, 1345185.50...</td>\n",
       "    </tr>\n",
       "    <tr>\n",
       "      <th>3</th>\n",
       "      <td>0</td>\n",
       "      <td>Clemente</td>\n",
       "      <td>0.399690</td>\n",
       "      <td>Protected Bike Lane</td>\n",
       "      <td>Bridge Deck</td>\n",
       "      <td>0.38</td>\n",
       "      <td>1.8</td>\n",
       "      <td>2015</td>\n",
       "      <td>LINESTRING (1341574.500 412596.500, 1341305.25...</td>\n",
       "    </tr>\n",
       "    <tr>\n",
       "      <th>4</th>\n",
       "      <td>0</td>\n",
       "      <td>Allegheny Commons</td>\n",
       "      <td>0.900000</td>\n",
       "      <td>Protected Bike Lane</td>\n",
       "      <td>Around entire circle</td>\n",
       "      <td>1.80</td>\n",
       "      <td>None</td>\n",
       "      <td>2017</td>\n",
       "      <td>LINESTRING (1340720.729 416241.212, 1340644.46...</td>\n",
       "    </tr>\n",
       "  </tbody>\n",
       "</table>\n",
       "</div>"
      ],
      "text/plain": [
       "   Id               Name   BL_Dist                 Note  \\\n",
       "0   0          Saline St  0.272043  Protected Bike Lane   \n",
       "1   0        Schenley Dr  1.488216  Protected Bike Lane   \n",
       "2   0           Penn Ave  2.003265  Protected Bike Lane   \n",
       "3   0           Clemente  0.399690  Protected Bike Lane   \n",
       "4   0  Allegheny Commons  0.900000  Protected Bike Lane   \n",
       "\n",
       "                                 CrossSt  BLDis BL_SYearTo Year_Added  \\\n",
       "0                Greenfield Ave to Trail   0.26       None       2014   \n",
       "1  Schenley Plaza to Anderson Playground   1.40       None       2014   \n",
       "2                      6th St to 16th St   1.80        1.6       2014   \n",
       "3                            Bridge Deck   0.38        1.8       2015   \n",
       "4                   Around entire circle   1.80       None       2017   \n",
       "\n",
       "                                            geometry  \n",
       "0  LINESTRING (1355500.250 405292.750, 1355495.50...  \n",
       "1  LINESTRING (1356920.750 408969.750, 1356981.75...  \n",
       "2  LINESTRING (1345849.500 414244.750, 1345185.50...  \n",
       "3  LINESTRING (1341574.500 412596.500, 1341305.25...  \n",
       "4  LINESTRING (1340720.729 416241.212, 1340644.46...  "
      ]
     },
     "execution_count": 8,
     "metadata": {},
     "output_type": "execute_result"
    }
   ],
   "source": [
    "import geopandas as panda\n",
    "\n",
    "data = panda.read_file(\"Bike_Lane.dbf\")\n",
    "data.head()\n"
   ]
  },
  {
   "cell_type": "markdown",
   "metadata": {},
   "source": [
    "Source: https://data.wprdc.org/dataset/shape-files-for-bikepgh-s-pittsburgh-bike-map (August 2019 protected bike lanes)"
   ]
  },
  {
   "cell_type": "markdown",
   "metadata": {},
   "source": [
    "<ul>\n",
    "    <li>Saline St : Greenfield</li>\n",
    "    <li>Schenley Dr : Oakland</li>\n",
    "    <li>Penn Ave : Downtown</li>\n",
    "    <li>Clemente (bridge) : Downtown</li>\n",
    "    <li>Allegheny Commons: Northside</li>\n",
    "</ul>"
   ]
  },
  {
   "cell_type": "code",
   "execution_count": null,
   "metadata": {},
   "outputs": [],
   "source": []
  }
 ],
 "metadata": {
  "kernelspec": {
   "display_name": "Python 3",
   "language": "python",
   "name": "python3"
  },
  "language_info": {
   "codemirror_mode": {
    "name": "ipython",
    "version": 3
   },
   "file_extension": ".py",
   "mimetype": "text/x-python",
   "name": "python",
   "nbconvert_exporter": "python",
   "pygments_lexer": "ipython3",
   "version": "3.8.3"
  }
 },
 "nbformat": 4,
 "nbformat_minor": 4
}
